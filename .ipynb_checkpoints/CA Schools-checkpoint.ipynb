{
 "cells": [
  {
   "cell_type": "markdown",
   "metadata": {},
   "source": [
    "# California's Most Selective Schools #\n",
    "\n",
    "I want to know some things about the top 10 hardest schools to get accepted into in the state of California. I will use the [college scorecard data from data.gov](https://catalog.data.gov/dataset/college-scorecard).\n",
    "\n",
    "I am using the 2017-2018 dataset from the CollegeScorecard_Raw_Data.zip."
   ]
  },
  {
   "cell_type": "code",
   "execution_count": 33,
   "metadata": {},
   "outputs": [],
   "source": [
    "import pandas as pd\n",
    "\n",
    "df = pd.read_csv(\"Data/CollegeScorecard_Raw_Data/MERGED2017_18_PP.csv\", low_memory=False)"
   ]
  },
  {
   "cell_type": "code",
   "execution_count": null,
   "metadata": {},
   "outputs": [],
   "source": [
    "df_old = pd.read_csv(\"Data/CollegeScorecard_Raw_Data/MERGED1996_97_PP.csv\", low_memory=False)"
   ]
  },
  {
   "cell_type": "code",
   "execution_count": 38,
   "metadata": {},
   "outputs": [
    {
     "name": "stderr",
     "output_type": "stream",
     "text": [
      "/Users/jknapp/anaconda3/lib/python3.7/site-packages/IPython/core/display.py:689: UserWarning:\n",
      "\n",
      "Consider using IPython.display.IFrame instead\n",
      "\n"
     ]
    },
    {
     "data": {
      "text/html": [
       "<iframe id=\"igraph\" scrolling=\"no\" style=\"border:none;\" seamless=\"seamless\" src=\"https://plot.ly/~jknapp06/4.embed\" height=\"380px\" width=\"100%\"></iframe>"
      ],
      "text/plain": [
       "<chart_studio.tools.PlotlyDisplay object>"
      ]
     },
     "execution_count": 38,
     "metadata": {},
     "output_type": "execute_result"
    }
   ],
   "source": [
    "import plotly.plotly as py\n",
    "import plotly.figure_factory as ff\n",
    "\n",
    "ca = df[df['STABBR'] == 'CA']\n",
    "selective = ca.dropna(subset=['ADM_RATE']).sort_values('ADM_RATE').head(10)\n",
    "\n",
    "table = ff.create_table(selective[['INSTNM', 'ADM_RATE']])\n",
    "py.iplot(table, filename='Selective CA Schools')"
   ]
  },
  {
   "cell_type": "markdown",
   "metadata": {},
   "source": [
    "Those are the schools, but I want to see some other details."
   ]
  },
  {
   "cell_type": "code",
   "execution_count": 27,
   "metadata": {},
   "outputs": [
    {
     "data": {
      "text/html": [
       "<iframe id=\"igraph\" scrolling=\"no\" style=\"border:none;\" seamless=\"seamless\" src=\"https://plot.ly/~jknapp06/8.embed\" height=\"525px\" width=\"100%\"></iframe>"
      ],
      "text/plain": [
       "<chart_studio.tools.PlotlyDisplay object>"
      ]
     },
     "execution_count": 27,
     "metadata": {},
     "output_type": "execute_result"
    }
   ],
   "source": [
    "import plotly.graph_objs as go\n",
    "\n",
    "data = [go.Bar(\n",
    "    x=selective['INSTNM'],\n",
    "    y=selective['TUITIONFEE_IN']\n",
    "        )\n",
    "       ]\n",
    "\n",
    "py.iplot(data, filename='In-State Tuition of Selective CA Schools')"
   ]
  },
  {
   "cell_type": "code",
   "execution_count": 48,
   "metadata": {},
   "outputs": [
    {
     "name": "stdout",
     "output_type": "stream",
     "text": [
      "                                    INSTNM  MD_EARN_WNE_P10\n",
      "295     California Institute of Technology              NaN\n",
      "315      University of California-Berkeley              NaN\n",
      "318   University of California-Los Angeles              NaN\n",
      "361              Claremont McKenna College              NaN\n",
      "447                    Harvey Mudd College              NaN\n",
      "611                         Pitzer College              NaN\n",
      "614                         Pomona College              NaN\n",
      "693      University of Southern California              NaN\n",
      "5381                   Stanford University              NaN\n"
     ]
    }
   ],
   "source": [
    "selective_old = df_old[df_old.INSTNM.isin(selective.INSTNM.tolist())]\n",
    "print(selective_old[['INSTNM', 'MD_EARN_WNE_P10']])"
   ]
  },
  {
   "cell_type": "markdown",
   "metadata": {},
   "source": [
    "Ran into the issue that the dataset did not include earnings data for these schools (maybe not any school?), so I downloaded another dataset that just has earnings data from [here](https://collegescorecard.ed.gov/data/)."
   ]
  },
  {
   "cell_type": "code",
   "execution_count": 49,
   "metadata": {},
   "outputs": [],
   "source": [
    "df_earnings = pd.read_csv(\"Data/earnings.csv\", low_memory=False)"
   ]
  },
  {
   "cell_type": "code",
   "execution_count": 51,
   "metadata": {},
   "outputs": [
    {
     "name": "stdout",
     "output_type": "stream",
     "text": [
      "                                    INSTNM MD_EARN_WNE_P10\n",
      "211     California Institute of Technology           85900\n",
      "228      University of California-Berkeley           64700\n",
      "231   University of California-Los Angeles           60700\n",
      "267              Claremont McKenna College           72900\n",
      "324                    Harvey Mudd College           88800\n",
      "422                         Pitzer College           48700\n",
      "425                         Pomona College           58100\n",
      "492      University of Southern California           74000\n",
      "3953                   Stanford University           94000\n",
      "6076              Grace Mission University             NaN\n"
     ]
    }
   ],
   "source": [
    "selective_earnings = df_earnings[df_earnings.INSTNM.isin(selective.INSTNM.tolist())]\n",
    "print(selective_earnings[['INSTNM', 'MD_EARN_WNE_P10']])"
   ]
  },
  {
   "cell_type": "markdown",
   "metadata": {},
   "source": [
    "Success! I'll plot that with the tuition data."
   ]
  },
  {
   "cell_type": "code",
   "execution_count": 70,
   "metadata": {},
   "outputs": [
    {
     "name": "stderr",
     "output_type": "stream",
     "text": [
      "/Users/jknapp/anaconda3/lib/python3.7/site-packages/IPython/core/display.py:689: UserWarning:\n",
      "\n",
      "Consider using IPython.display.IFrame instead\n",
      "\n"
     ]
    },
    {
     "data": {
      "text/html": [
       "<iframe id=\"igraph\" scrolling=\"no\" style=\"border:none;\" seamless=\"seamless\" src=\"https://plot.ly/~jknapp06/12.embed\" height=\"525px\" width=\"100%\"></iframe>"
      ],
      "text/plain": [
       "<chart_studio.tools.PlotlyDisplay object>"
      ]
     },
     "execution_count": 70,
     "metadata": {},
     "output_type": "execute_result"
    }
   ],
   "source": [
    "selective_earnings.sort_values('MD_EARN_WNE_P10', ascending=False, inplace=True)\n",
    "\n",
    "earn = go.Bar(\n",
    "    x=selective_earnings['INSTNM'],\n",
    "    y=selective_earnings['MD_EARN_WNE_P10'],\n",
    "    name = 'Median Earnings 10 years after entry')\n",
    "\n",
    "tuit = go.Bar(\n",
    "    x=selective['INSTNM'],\n",
    "    y=selective['TUITIONFEE_IN'],\n",
    "    name = 'In-state Tuition')\n",
    "\n",
    "data = [earn, tuit]\n",
    "layout = go.Layout(barmode='group')\n",
    "\n",
    "fig = go.Figure(data=data, layout=layout)\n",
    "\n",
    "py.iplot(fig, filename='SelectiveCATuitionEarnings')"
   ]
  },
  {
   "cell_type": "markdown",
   "metadata": {},
   "source": [
    "None of these factors are great predictors for the quality of the school, the quality of the education you will recieve, the income you will earn, and certainly not the happiness you would experience during or after attending any of these schools. \n",
    "\n",
    "In fact, I suspect that the earnings after 10 years has more to do with the ratio of graduates with STEM degrees vs liberal arts degrees than the \"quality\" of the school (whatever that might mean). That is not to suggest that liberal arts majors live any less fulfilling lives. Of course... liberal arts majors are a lot less likely to analyze datasets using python, jupyter notebooks, pandas, and plotly..."
   ]
  }
 ],
 "metadata": {
  "kernelspec": {
   "display_name": "Python 3",
   "language": "python",
   "name": "python3"
  },
  "language_info": {
   "codemirror_mode": {
    "name": "ipython",
    "version": 3
   },
   "file_extension": ".py",
   "mimetype": "text/x-python",
   "name": "python",
   "nbconvert_exporter": "python",
   "pygments_lexer": "ipython3",
   "version": "3.7.3"
  }
 },
 "nbformat": 4,
 "nbformat_minor": 2
}
